{
 "cells": [
  {
   "cell_type": "markdown",
   "metadata": {},
   "source": [
    "# Python Pandas Introduction\n",
    "Pandas is defined as an open-source library that provides high-performance data manipulation in Python. \n",
    "\n",
    "Data analysis requires lots of processing, such as restructuring, cleaning or merging, etc. There are different tools are available for fast data processing, such as Numpy, Scipy, Cython, and Panda. But we prefer Pandas because working with Pandas is fast, simple and more expressive than other tools.. It can perform five significant steps required for processing and analysis of data irrespective of the origin of the data, i.e., load, manipulate, prepare, model, and analyze.\n",
    "\n",
    "\n",
    "Pandas is built on top of the Numpy package, means Numpy is required for operating the Pandas.\n",
    "\n",
    "\n",
    "# Python Pandas Data Structure\n",
    "The Pandas provides two data structures for processing the data, i.e., Series and DataFrame, which are discussed below:\n",
    "\n",
    "# 1 Python Pandas Series\n",
    "It is defined as a one-dimensional array that is capable of storing various data types. The row labels of series are called the index. We can easily convert the list, tuple, and dictionary into series using \"series' method. A Series cannot contain multiple columns. It has one parameter:"
   ]
  },
  {
   "cell_type": "code",
   "execution_count": 1,
   "metadata": {},
   "outputs": [],
   "source": [
    "#pip install pandas"
   ]
  },
  {
   "cell_type": "code",
   "execution_count": 2,
   "metadata": {},
   "outputs": [
    {
     "data": {
      "text/plain": [
       "Series([], dtype: object)"
      ]
     },
     "execution_count": 2,
     "metadata": {},
     "output_type": "execute_result"
    }
   ],
   "source": [
    "import pandas as pd\n",
    "import numpy as np  \n",
    "\n",
    "pd.Series(    dtype=\"object\" )"
   ]
  },
  {
   "cell_type": "markdown",
   "metadata": {},
   "source": [
    "# Create a Series from a  list object"
   ]
  },
  {
   "cell_type": "code",
   "execution_count": null,
   "metadata": {},
   "outputs": [],
   "source": [
    "list1 = [\"ade\", \"ada\", \"joy\", \"sancho\". \"james\", \"smith\"]\n",
    "#from the list above, create a series\n",
    "sre1=pd."
   ]
  },
  {
   "cell_type": "code",
   "execution_count": null,
   "metadata": {},
   "outputs": [],
   "source": []
  },
  {
   "cell_type": "code",
   "execution_count": null,
   "metadata": {},
   "outputs": [],
   "source": []
  },
  {
   "cell_type": "code",
   "execution_count": 1,
   "metadata": {},
   "outputs": [],
   "source": [
    "# creating series from a tuple with the following index  [\"one\", \"two\", \"three\", \"four\"]\n",
    "\n"
   ]
  },
  {
   "cell_type": "code",
   "execution_count": null,
   "metadata": {},
   "outputs": [],
   "source": []
  },
  {
   "cell_type": "code",
   "execution_count": 2,
   "metadata": {},
   "outputs": [],
   "source": [
    "#Create a Series from dict: when you create series from dictionary, the key become the index of the series  \n"
   ]
  },
  {
   "cell_type": "code",
   "execution_count": 3,
   "metadata": {},
   "outputs": [],
   "source": [
    "# slice through the series above from second row to the last ros\n"
   ]
  },
  {
   "cell_type": "code",
   "execution_count": 4,
   "metadata": {},
   "outputs": [],
   "source": [
    "# to get access to the index of series\n"
   ]
  },
  {
   "cell_type": "code",
   "execution_count": 5,
   "metadata": {},
   "outputs": [],
   "source": [
    "# to get the values of the series\n"
   ]
  },
  {
   "cell_type": "code",
   "execution_count": 6,
   "metadata": {},
   "outputs": [],
   "source": [
    "# to get dimension of a series"
   ]
  },
  {
   "cell_type": "markdown",
   "metadata": {},
   "source": [
    "# Pandas Series.map()\n",
    "The main task of map() is used to map the values from two series that have a common column."
   ]
  },
  {
   "cell_type": "code",
   "execution_count": null,
   "metadata": {},
   "outputs": [],
   "source": []
  },
  {
   "cell_type": "code",
   "execution_count": null,
   "metadata": {},
   "outputs": [],
   "source": []
  },
  {
   "cell_type": "code",
   "execution_count": null,
   "metadata": {},
   "outputs": [],
   "source": []
  },
  {
   "cell_type": "code",
   "execution_count": 33,
   "metadata": {},
   "outputs": [
    {
     "name": "stdout",
     "output_type": "stream",
     "text": [
      "0           male\n",
      "1           male\n",
      "2         female\n",
      "3         female\n",
      "4           male\n",
      "5         female\n",
      "6         female\n",
      "7    transgender\n",
      "dtype: object\n"
     ]
    }
   ],
   "source": [
    "x=pd.Series([\"male\", \"male\", \"female\", \"female\", \"male\", \"female\", \"female\", \"transgender\"])\n",
    "print(x)\n",
    "# change the values of series above using map , all female should be 0, all male should 1 \n",
    "# and transgender should be 2"
   ]
  },
  {
   "cell_type": "code",
   "execution_count": 7,
   "metadata": {},
   "outputs": [],
   "source": [
    "# replace"
   ]
  },
  {
   "cell_type": "code",
   "execution_count": null,
   "metadata": {},
   "outputs": [],
   "source": []
  },
  {
   "cell_type": "code",
   "execution_count": null,
   "metadata": {},
   "outputs": [],
   "source": []
  },
  {
   "cell_type": "markdown",
   "metadata": {},
   "source": [
    "# Pandas Series.value_counts()\n",
    "to count of number of records in a series"
   ]
  },
  {
   "cell_type": "code",
   "execution_count": null,
   "metadata": {},
   "outputs": [],
   "source": []
  },
  {
   "cell_type": "markdown",
   "metadata": {},
   "source": [
    "# 2 Python Pandas DataFrame\n",
    "is a widely used data structure of pandas and works with a two-dimensional array with labeled axes (rows and columns). DataFrame is defined as a standard way to store data and has two different indexes, i.e., row index and column index. It consists of the following properties:\n",
    "The columns can be heterogeneous types like int, bool, and so on.\n",
    "\n",
    "It can be seen as a dictionary of Series structure where both the rows and columns are indexed. It is denoted as \"columns\" in case of columns and \"index\" in case of rows.\n"
   ]
  },
  {
   "cell_type": "code",
   "execution_count": 8,
   "metadata": {},
   "outputs": [],
   "source": [
    "import pandas as pd  \n",
    "# a list of strings  \n",
    "  \n",
    "# Calling DataFrame constructor on list  \n"
   ]
  },
  {
   "cell_type": "code",
   "execution_count": 9,
   "metadata": {},
   "outputs": [],
   "source": [
    "# creation of Dataframe from list, column name should be \"information\", and index as follow\n",
    "#  \"A\", \"B\", \"C\", \"D\", \"E\", \"F\"\n",
    "\n"
   ]
  },
  {
   "cell_type": "code",
   "execution_count": 10,
   "metadata": {},
   "outputs": [],
   "source": [
    "# create dataframe from the list below\n",
    "l1 = [\"island\", \"ikeja\", \"berger\"] # location\n",
    "l2 = [1000, 150, 50]  # T fare\n"
   ]
  },
  {
   "cell_type": "code",
   "execution_count": null,
   "metadata": {},
   "outputs": [],
   "source": []
  },
  {
   "cell_type": "code",
   "execution_count": 50,
   "metadata": {},
   "outputs": [
    {
     "data": {
      "text/html": [
       "<div>\n",
       "<style scoped>\n",
       "    .dataframe tbody tr th:only-of-type {\n",
       "        vertical-align: middle;\n",
       "    }\n",
       "\n",
       "    .dataframe tbody tr th {\n",
       "        vertical-align: top;\n",
       "    }\n",
       "\n",
       "    .dataframe thead th {\n",
       "        text-align: right;\n",
       "    }\n",
       "</style>\n",
       "<table border=\"1\" class=\"dataframe\">\n",
       "  <thead>\n",
       "    <tr style=\"text-align: right;\">\n",
       "      <th></th>\n",
       "      <th>Date</th>\n",
       "      <th>Name</th>\n",
       "      <th>Age</th>\n",
       "      <th>State</th>\n",
       "      <th>Job</th>\n",
       "      <th>Salary</th>\n",
       "      <th>Review</th>\n",
       "    </tr>\n",
       "  </thead>\n",
       "  <tbody>\n",
       "    <tr>\n",
       "      <th>a</th>\n",
       "      <td>2023-01-01</td>\n",
       "      <td>Jamiu</td>\n",
       "      <td>25.0</td>\n",
       "      <td>Lagos</td>\n",
       "      <td>Engineer</td>\n",
       "      <td>39485.43</td>\n",
       "      <td>good</td>\n",
       "    </tr>\n",
       "    <tr>\n",
       "      <th>b</th>\n",
       "      <td>2023-01-02</td>\n",
       "      <td>Olaitan</td>\n",
       "      <td>12.0</td>\n",
       "      <td>Kano</td>\n",
       "      <td>Banker</td>\n",
       "      <td>20000.30</td>\n",
       "      <td>good</td>\n",
       "    </tr>\n",
       "    <tr>\n",
       "      <th>c</th>\n",
       "      <td>2023-01-03</td>\n",
       "      <td>NaN</td>\n",
       "      <td>50.0</td>\n",
       "      <td>Niger</td>\n",
       "      <td>Lawyer</td>\n",
       "      <td>7363.00</td>\n",
       "      <td>good</td>\n",
       "    </tr>\n",
       "    <tr>\n",
       "      <th>d</th>\n",
       "      <td>2023-01-04</td>\n",
       "      <td>Pelumi</td>\n",
       "      <td>16.0</td>\n",
       "      <td>NaN</td>\n",
       "      <td>NaN</td>\n",
       "      <td>67362.00</td>\n",
       "      <td>good</td>\n",
       "    </tr>\n",
       "    <tr>\n",
       "      <th>e</th>\n",
       "      <td>2023-01-05</td>\n",
       "      <td>Kemi</td>\n",
       "      <td>19.0</td>\n",
       "      <td>Oyo</td>\n",
       "      <td>Doctor</td>\n",
       "      <td>7362.73</td>\n",
       "      <td>good</td>\n",
       "    </tr>\n",
       "    <tr>\n",
       "      <th>f</th>\n",
       "      <td>2023-01-01</td>\n",
       "      <td>Jamiu</td>\n",
       "      <td>25.0</td>\n",
       "      <td>Lagos</td>\n",
       "      <td>Engineer</td>\n",
       "      <td>39485.43</td>\n",
       "      <td>good</td>\n",
       "    </tr>\n",
       "    <tr>\n",
       "      <th>g</th>\n",
       "      <td>2023-01-07</td>\n",
       "      <td>Sanhco</td>\n",
       "      <td>20.0</td>\n",
       "      <td>Port harcourt</td>\n",
       "      <td>Driver</td>\n",
       "      <td>NaN</td>\n",
       "      <td>good</td>\n",
       "    </tr>\n",
       "    <tr>\n",
       "      <th>h</th>\n",
       "      <td>2023-01-08</td>\n",
       "      <td>Richard</td>\n",
       "      <td>30.0</td>\n",
       "      <td>Delta</td>\n",
       "      <td>CEO</td>\n",
       "      <td>83663.28</td>\n",
       "      <td>good</td>\n",
       "    </tr>\n",
       "    <tr>\n",
       "      <th>i</th>\n",
       "      <td>2023-01-09</td>\n",
       "      <td>James</td>\n",
       "      <td>NaN</td>\n",
       "      <td>NaN</td>\n",
       "      <td>Farmer</td>\n",
       "      <td>98382.92</td>\n",
       "      <td>good</td>\n",
       "    </tr>\n",
       "    <tr>\n",
       "      <th>j</th>\n",
       "      <td>2023-01-10</td>\n",
       "      <td>Sanhco</td>\n",
       "      <td>34.0</td>\n",
       "      <td>Kwara</td>\n",
       "      <td>Nurse</td>\n",
       "      <td>NaN</td>\n",
       "      <td>good</td>\n",
       "    </tr>\n",
       "    <tr>\n",
       "      <th>k</th>\n",
       "      <td>2023-01-11</td>\n",
       "      <td>Lukmon</td>\n",
       "      <td>56.0</td>\n",
       "      <td>Adamawa</td>\n",
       "      <td>Artist</td>\n",
       "      <td>NaN</td>\n",
       "      <td>good</td>\n",
       "    </tr>\n",
       "    <tr>\n",
       "      <th>l</th>\n",
       "      <td>2023-01-12</td>\n",
       "      <td>NaN</td>\n",
       "      <td>78.0</td>\n",
       "      <td>Benue</td>\n",
       "      <td>Footballer</td>\n",
       "      <td>9448.34</td>\n",
       "      <td>good</td>\n",
       "    </tr>\n",
       "    <tr>\n",
       "      <th>m</th>\n",
       "      <td>2023-01-13</td>\n",
       "      <td>Idris</td>\n",
       "      <td>34.0</td>\n",
       "      <td>Edo</td>\n",
       "      <td>Nurse</td>\n",
       "      <td>NaN</td>\n",
       "      <td>good</td>\n",
       "    </tr>\n",
       "    <tr>\n",
       "      <th>n</th>\n",
       "      <td>2023-01-14</td>\n",
       "      <td>Rashford</td>\n",
       "      <td>NaN</td>\n",
       "      <td>Jos</td>\n",
       "      <td>NaN</td>\n",
       "      <td>8499.00</td>\n",
       "      <td>good</td>\n",
       "    </tr>\n",
       "    <tr>\n",
       "      <th>o</th>\n",
       "      <td>2023-01-15</td>\n",
       "      <td>NaN</td>\n",
       "      <td>12.0</td>\n",
       "      <td>Kano</td>\n",
       "      <td>NaN</td>\n",
       "      <td>20000.30</td>\n",
       "      <td>good</td>\n",
       "    </tr>\n",
       "    <tr>\n",
       "      <th>p</th>\n",
       "      <td>2023-01-16</td>\n",
       "      <td>Olaitan</td>\n",
       "      <td>34.0</td>\n",
       "      <td>Delta</td>\n",
       "      <td>Banker</td>\n",
       "      <td>3849.00</td>\n",
       "      <td>good</td>\n",
       "    </tr>\n",
       "    <tr>\n",
       "      <th>q</th>\n",
       "      <td>2023-01-01</td>\n",
       "      <td>Jamiu</td>\n",
       "      <td>25.0</td>\n",
       "      <td>Lagos</td>\n",
       "      <td>Engineer</td>\n",
       "      <td>39485.43</td>\n",
       "      <td>good</td>\n",
       "    </tr>\n",
       "  </tbody>\n",
       "</table>\n",
       "</div>"
      ],
      "text/plain": [
       "         Date      Name   Age          State         Job    Salary Review\n",
       "a  2023-01-01     Jamiu  25.0          Lagos    Engineer  39485.43   good\n",
       "b  2023-01-02   Olaitan  12.0           Kano      Banker  20000.30   good\n",
       "c  2023-01-03       NaN  50.0          Niger      Lawyer   7363.00   good\n",
       "d  2023-01-04    Pelumi  16.0            NaN         NaN  67362.00   good\n",
       "e  2023-01-05      Kemi  19.0            Oyo      Doctor   7362.73   good\n",
       "f  2023-01-01     Jamiu  25.0          Lagos    Engineer  39485.43   good\n",
       "g  2023-01-07    Sanhco  20.0  Port harcourt      Driver       NaN   good\n",
       "h  2023-01-08   Richard  30.0          Delta         CEO  83663.28   good\n",
       "i  2023-01-09     James   NaN            NaN      Farmer  98382.92   good\n",
       "j  2023-01-10    Sanhco  34.0          Kwara       Nurse       NaN   good\n",
       "k  2023-01-11    Lukmon  56.0        Adamawa      Artist       NaN   good\n",
       "l  2023-01-12       NaN  78.0          Benue  Footballer   9448.34   good\n",
       "m  2023-01-13     Idris  34.0            Edo       Nurse       NaN   good\n",
       "n  2023-01-14  Rashford   NaN            Jos         NaN   8499.00   good\n",
       "o  2023-01-15       NaN  12.0           Kano         NaN  20000.30   good\n",
       "p  2023-01-16   Olaitan  34.0          Delta      Banker   3849.00   good\n",
       "q  2023-01-01     Jamiu  25.0          Lagos    Engineer  39485.43   good"
      ]
     },
     "execution_count": 50,
     "metadata": {},
     "output_type": "execute_result"
    }
   ],
   "source": [
    "dict1 = {\n",
    "    \n",
    " \"Date\": ['2023-01-01', '2023-01-02', '2023-01-03', '2023-01-04', '2023-01-05', '2023-01-01', '2023-01-07', \n",
    "             '2023-01-08', '2023-01-09', '2023-01-10', '2023-01-11', '2023-01-12', '2023-01-13', '2023-01-14', \n",
    "             '2023-01-15', '2023-01-16', '2023-01-01'],\n",
    "    \n",
    " \"Name\":[\"Jamiu\", \"Olaitan\", np.nan, \"Pelumi\", \"Kemi\", \"Jamiu\", \"Sanhco\", \"Richard\", \"James\",\"Sanhco\",  \"Lukmon\", np.nan, \n",
    "         \"Idris\",\"Rashford\", np.nan, \"Olaitan\", \"Jamiu\"],\n",
    "    \n",
    " \"Age\": [25, 12, 50, 16, 19, 25, 20,30,np.nan, 34,56,78,34, np.nan,12, 34, 25],\n",
    "    \n",
    " \"State\":[\"Lagos\", \"Kano\", \"Niger\", np.nan, \"Oyo\",\"Lagos\", \"Port harcourt\", \"Delta\", np.nan,\"Kwara\", \"Adamawa\", \"Benue\", \n",
    "          \"Edo\", \"Jos\", \"Kano\", \"Delta\", \"Lagos\"],\n",
    "    \n",
    " \"Job\":  [\"Engineer\", \"Banker\", \"Lawyer\", np.nan,\"Doctor\", \"Engineer\",  \"Driver\", \"CEO\", \"Farmer\", \"Nurse\", \"Artist\",\n",
    "          \"Footballer\", \"Nurse\", np.nan, np.nan, \"Banker\", \"Engineer\"],\n",
    "    \n",
    "  \"Salary\":[39485.43,20000.3, 7363.00, 67362.00, 7362.73, 39485.43,np.nan, 83663.28, 98382.92, np.nan, np.nan,9448.34, \n",
    "            np.nan,8499.00, 20000.3, 3849, 39485.43],\n",
    "    \n",
    "        \"Review\": np.repeat(\"good\", 17)\n",
    "      }\n",
    "\n",
    "df=pd.DataFrame(dict1, index=list( \"abcdefghijklmnopq\"))\n",
    "df"
   ]
  },
  {
   "cell_type": "code",
   "execution_count": 32,
   "metadata": {},
   "outputs": [],
   "source": [
    "# read the dictionary above into dataframe using the following as index \"abcdefghijklmnopq\"\n"
   ]
  },
  {
   "cell_type": "code",
   "execution_count": null,
   "metadata": {},
   "outputs": [],
   "source": []
  },
  {
   "cell_type": "code",
   "execution_count": 52,
   "metadata": {},
   "outputs": [],
   "source": [
    "# export the dataframe above in excel format\n"
   ]
  },
  {
   "cell_type": "code",
   "execution_count": null,
   "metadata": {},
   "outputs": [],
   "source": []
  },
  {
   "cell_type": "code",
   "execution_count": 54,
   "metadata": {},
   "outputs": [],
   "source": [
    "# export the dataframe above in csv format\n"
   ]
  },
  {
   "cell_type": "code",
   "execution_count": null,
   "metadata": {},
   "outputs": [],
   "source": []
  },
  {
   "cell_type": "code",
   "execution_count": 11,
   "metadata": {},
   "outputs": [],
   "source": [
    "# read the the excel and csv file you export into dataframe \n"
   ]
  },
  {
   "cell_type": "code",
   "execution_count": null,
   "metadata": {},
   "outputs": [],
   "source": []
  },
  {
   "cell_type": "markdown",
   "metadata": {},
   "source": [
    "# Viewing/Inspecting Data"
   ]
  },
  {
   "cell_type": "code",
   "execution_count": 12,
   "metadata": {},
   "outputs": [],
   "source": [
    "# print the first seven row of the dataframe\n"
   ]
  },
  {
   "cell_type": "code",
   "execution_count": null,
   "metadata": {},
   "outputs": [],
   "source": []
  },
  {
   "cell_type": "code",
   "execution_count": 13,
   "metadata": {},
   "outputs": [],
   "source": [
    "# print the last seven row of the dataframe\n"
   ]
  },
  {
   "cell_type": "code",
   "execution_count": null,
   "metadata": {},
   "outputs": [],
   "source": []
  },
  {
   "cell_type": "code",
   "execution_count": 14,
   "metadata": {},
   "outputs": [],
   "source": [
    "# randomly print seven in the dataframe\n"
   ]
  },
  {
   "cell_type": "code",
   "execution_count": null,
   "metadata": {},
   "outputs": [],
   "source": []
  },
  {
   "cell_type": "code",
   "execution_count": 15,
   "metadata": {},
   "outputs": [],
   "source": [
    "# print the summary of the dataframe\n"
   ]
  },
  {
   "cell_type": "code",
   "execution_count": null,
   "metadata": {},
   "outputs": [],
   "source": []
  },
  {
   "cell_type": "code",
   "execution_count": 16,
   "metadata": {},
   "outputs": [],
   "source": [
    " # print the dimension of the dataframe\n"
   ]
  },
  {
   "cell_type": "code",
   "execution_count": null,
   "metadata": {},
   "outputs": [],
   "source": []
  },
  {
   "cell_type": "code",
   "execution_count": 17,
   "metadata": {},
   "outputs": [],
   "source": [
    "# print all the column of the dataframe\n"
   ]
  },
  {
   "cell_type": "code",
   "execution_count": null,
   "metadata": {},
   "outputs": [],
   "source": []
  },
  {
   "cell_type": "code",
   "execution_count": null,
   "metadata": {},
   "outputs": [],
   "source": [
    "# gives the statistical summary of the dataframe\n"
   ]
  },
  {
   "cell_type": "markdown",
   "metadata": {},
   "source": [
    "# Row and Column Selection in Dataframe"
   ]
  },
  {
   "cell_type": "code",
   "execution_count": null,
   "metadata": {},
   "outputs": [],
   "source": [
    "# Using tne label name, select the second column of the dataframe and all the rows"
   ]
  },
  {
   "cell_type": "code",
   "execution_count": null,
   "metadata": {},
   "outputs": [],
   "source": []
  },
  {
   "cell_type": "code",
   "execution_count": null,
   "metadata": {},
   "outputs": [],
   "source": [
    "# Using tne label name, select the second column of the dataframe and row 5 to 10"
   ]
  },
  {
   "cell_type": "code",
   "execution_count": null,
   "metadata": {},
   "outputs": [],
   "source": []
  },
  {
   "cell_type": "code",
   "execution_count": null,
   "metadata": {},
   "outputs": [],
   "source": [
    "# Using tne label name, select the second, fourth and the sixth columns of the dataframe and all\n",
    "# the rows"
   ]
  },
  {
   "cell_type": "code",
   "execution_count": null,
   "metadata": {},
   "outputs": [],
   "source": []
  },
  {
   "cell_type": "code",
   "execution_count": 37,
   "metadata": {},
   "outputs": [],
   "source": [
    "# Using tne label name, select the second, fourth and the sixth columns of the dataframe and rows from\n",
    "# 7, 10, 12  and  14"
   ]
  },
  {
   "cell_type": "code",
   "execution_count": null,
   "metadata": {},
   "outputs": [],
   "source": []
  },
  {
   "cell_type": "code",
   "execution_count": null,
   "metadata": {},
   "outputs": [],
   "source": []
  },
  {
   "cell_type": "code",
   "execution_count": null,
   "metadata": {},
   "outputs": [],
   "source": [
    "# Using tne index number, select the second column of the dataframe and all the rows"
   ]
  },
  {
   "cell_type": "code",
   "execution_count": null,
   "metadata": {},
   "outputs": [],
   "source": []
  },
  {
   "cell_type": "code",
   "execution_count": null,
   "metadata": {},
   "outputs": [],
   "source": [
    "# Using tne index number, select the second column of the dataframe and row 5 to 10"
   ]
  },
  {
   "cell_type": "code",
   "execution_count": null,
   "metadata": {},
   "outputs": [],
   "source": []
  },
  {
   "cell_type": "code",
   "execution_count": null,
   "metadata": {},
   "outputs": [],
   "source": [
    "# Using tne index number, select the second, fourth and the sixth columns of the dataframe and all\n",
    "# the rows"
   ]
  },
  {
   "cell_type": "code",
   "execution_count": null,
   "metadata": {},
   "outputs": [],
   "source": []
  },
  {
   "cell_type": "code",
   "execution_count": 47,
   "metadata": {},
   "outputs": [],
   "source": [
    "# Using tne index number, select the second, fourth and the sixth columns of the dataframe and rows from\n",
    "# 7, 11 and 14"
   ]
  },
  {
   "cell_type": "code",
   "execution_count": null,
   "metadata": {},
   "outputs": [],
   "source": []
  },
  {
   "cell_type": "code",
   "execution_count": null,
   "metadata": {},
   "outputs": [],
   "source": []
  },
  {
   "cell_type": "markdown",
   "metadata": {},
   "source": [
    "# Modifying Data on the dataframe "
   ]
  },
  {
   "cell_type": "code",
   "execution_count": null,
   "metadata": {},
   "outputs": [],
   "source": []
  },
  {
   "cell_type": "code",
   "execution_count": null,
   "metadata": {},
   "outputs": [],
   "source": [
    "# Mrs Pelumi asked to update her State and job as follow (Abuja and Data science ). perform the task"
   ]
  },
  {
   "cell_type": "code",
   "execution_count": 45,
   "metadata": {},
   "outputs": [],
   "source": [
    "player_dicts={\"Play\":['Kai Harvert', 'Gabriel Jesus',  'Gabriel Jesus', \"Declan Rice\", \"Thomas Patrey\", \n",
    "         \"Bukayo Saka\", \"Bukayo Saka\"], \n",
    "              \"Agekkkkkk\":[24,26, 26,24,30,21, 21],\n",
    "                }\n",
    "\n",
    "arsenal = pd.DataFrame(player_dicts)"
   ]
  },
  {
   "cell_type": "code",
   "execution_count": null,
   "metadata": {},
   "outputs": [],
   "source": [
    "# the list below is the salary of the arsenal player in the above datarame \n",
    "# [280000, 265000, 265000, 240000, 20000,  195000, 195000], add it to the dataframe as a column"
   ]
  },
  {
   "cell_type": "code",
   "execution_count": null,
   "metadata": {},
   "outputs": [],
   "source": []
  },
  {
   "cell_type": "code",
   "execution_count": null,
   "metadata": {},
   "outputs": [],
   "source": [
    "# the columns of the dataframe above is not descriptive. change them appropriately"
   ]
  },
  {
   "cell_type": "code",
   "execution_count": null,
   "metadata": {},
   "outputs": [],
   "source": []
  },
  {
   "cell_type": "code",
   "execution_count": null,
   "metadata": {},
   "outputs": [],
   "source": []
  },
  {
   "cell_type": "code",
   "execution_count": null,
   "metadata": {},
   "outputs": [],
   "source": [
    "# remove row second and fourth rows in the dataframe above"
   ]
  },
  {
   "cell_type": "code",
   "execution_count": null,
   "metadata": {},
   "outputs": [],
   "source": []
  },
  {
   "cell_type": "code",
   "execution_count": null,
   "metadata": {},
   "outputs": [],
   "source": []
  },
  {
   "cell_type": "code",
   "execution_count": null,
   "metadata": {},
   "outputs": [],
   "source": [
    "# remove the age column from the dataframe above"
   ]
  },
  {
   "cell_type": "code",
   "execution_count": null,
   "metadata": {},
   "outputs": [],
   "source": []
  },
  {
   "cell_type": "code",
   "execution_count": null,
   "metadata": {},
   "outputs": [],
   "source": [
    "# remove the second and  the fourth rows from the dataframe above"
   ]
  },
  {
   "cell_type": "code",
   "execution_count": null,
   "metadata": {},
   "outputs": [],
   "source": []
  },
  {
   "cell_type": "code",
   "execution_count": null,
   "metadata": {},
   "outputs": [],
   "source": [
    "# check for duplicates and remove them in the dataframe above"
   ]
  },
  {
   "cell_type": "code",
   "execution_count": null,
   "metadata": {},
   "outputs": [],
   "source": [
    "# checking the rows with duplicates records\n"
   ]
  },
  {
   "cell_type": "code",
   "execution_count": null,
   "metadata": {},
   "outputs": [],
   "source": [
    "# checking for missing values"
   ]
  },
  {
   "cell_type": "code",
   "execution_count": null,
   "metadata": {},
   "outputs": [],
   "source": []
  },
  {
   "cell_type": "markdown",
   "metadata": {},
   "source": [
    "# treating missing values"
   ]
  },
  {
   "cell_type": "code",
   "execution_count": null,
   "metadata": {},
   "outputs": [],
   "source": [
    "# ffill"
   ]
  },
  {
   "cell_type": "code",
   "execution_count": null,
   "metadata": {},
   "outputs": [],
   "source": [
    "# bfill"
   ]
  },
  {
   "cell_type": "code",
   "execution_count": null,
   "metadata": {},
   "outputs": [],
   "source": [
    "# dropna"
   ]
  },
  {
   "cell_type": "code",
   "execution_count": null,
   "metadata": {},
   "outputs": [],
   "source": [
    "# filling missing records with value"
   ]
  },
  {
   "cell_type": "code",
   "execution_count": null,
   "metadata": {},
   "outputs": [],
   "source": []
  }
 ],
 "metadata": {
  "kernelspec": {
   "display_name": "Python 3 (ipykernel)",
   "language": "python",
   "name": "python3"
  },
  "language_info": {
   "codemirror_mode": {
    "name": "ipython",
    "version": 3
   },
   "file_extension": ".py",
   "mimetype": "text/x-python",
   "name": "python",
   "nbconvert_exporter": "python",
   "pygments_lexer": "ipython3",
   "version": "3.9.13"
  }
 },
 "nbformat": 4,
 "nbformat_minor": 4
}
